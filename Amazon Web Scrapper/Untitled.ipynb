{
 "cells": [
  {
   "cell_type": "code",
   "execution_count": 79,
   "id": "ca2ccc94-5dd7-40fe-bd4c-660ec5813040",
   "metadata": {},
   "outputs": [],
   "source": [
    "# import required libraries\n",
    "\n",
    "from bs4 import BeautifulSoup\n",
    "import requests\n",
    "import smtplib\n",
    "import time\n",
    "import datetime"
   ]
  },
  {
   "cell_type": "code",
   "execution_count": 86,
   "id": "723d6d9a-87e8-4edf-a6c3-709430db9ae4",
   "metadata": {},
   "outputs": [
    {
     "name": "stdout",
     "output_type": "stream",
     "text": [
      "Error Occured\n",
      "\n",
      "                   Sparx Men's Running Shoe, Dark Grey Neon Orange, 7 UK, SX0648GDGNO0007\n",
      "                  \n",
      "\n",
      "\n",
      "\n",
      "\n",
      "\n",
      "                  Sole: Ethylene Vinyl Acetate\n",
      "                 \n",
      "\n",
      "\n",
      "\n",
      "                  Closure: Pull On\n",
      "                 \n",
      "\n",
      "\n",
      "\n",
      "                  Fit Type: Regular\n",
      "                 \n",
      "\n",
      "\n",
      "\n",
      "                  Shoe Width: Medium\n",
      "                 \n",
      "\n",
      "\n",
      "\n",
      "                  Light Weight\n",
      "                 \n",
      "\n",
      "\n",
      "\n",
      "                  Breathable\n",
      "                 \n",
      "\n",
      "\n",
      "\n",
      "                  Flexible\n",
      "                 \n",
      "\n",
      "\n",
      "\n",
      "\n"
     ]
    }
   ],
   "source": [
    "# URL=\"https://www.amazon.com/Funny-Data-Systems-Business-Analyst/dp/B07FNW9FGJ\" \n",
    "URL=\"https://www.amazon.in/Sparx-SM-648-Orange-Running-SX0648GDGNO0007/dp/B08K9KP8GX/ref=asc_df_B08K9KP8GX/?tag=googleshopdes-21&linkCode=df0&hvadid=487987213162&hvpos=&hvnetw=g&hvrand=6107465761784302669&hvpone=&hvptwo=&hvqmt=&hvdev=c&hvdvcmdl=&hvlocint=&hvlocphy=9061996&hvtargid=pla-1084550937302&psc=1&ext_vrnc=hi\"\n",
    "headers = {\"User-Agent\": \"Mozilla/5.0 (Windows NT 10.0; Win64; x64) AppleWebKit/537.36 (KHTML, like Gecko) Chrome/78.0.3904.108 Safari/537.36\", \"Accept-Encoding\":\"gzip, deflate\", \"Accept\":\"text/html,application/xhtml+xml,application/xml;q=0.9,*/*;q=0.8\", \"DNT\":\"1\",\"Connection\":\"close\", \"Upgrade-Insecure-Requests\":\"1\"}\n",
    "\n",
    "page= requests.get(URL , headers=headers )\n",
    "\n",
    "soup1=BeautifulSoup(page.content,\"html.parser\")\n",
    "\n",
    "soup2=BeautifulSoup(soup1.prettify(),\"html.parser\")\n",
    "\n",
    "title = soup2.find(id=\"productTitle\").get_text()\n",
    "price=\"\"\n",
    "try:\n",
    "    price=soup2.find(id=\"priceblock_ourprice\").get_text()\n",
    "except:\n",
    "    print(\"Error Occured\")\n",
    "finally:\n",
    "    features =soup2.find(id=\"feature-bullets\").get_text()\n",
    "\n",
    "print(title)\n",
    "print(price)\n",
    "print(features)"
   ]
  },
  {
   "cell_type": "code",
   "execution_count": 87,
   "id": "6e609440-d466-4603-8443-70c9e13c45e6",
   "metadata": {},
   "outputs": [
    {
     "name": "stdout",
     "output_type": "stream",
     "text": [
      "Sole: Ethylene Vinyl Acetate,Closure: Pull On,Fit Type: Regular,Shoe Width: Medium,Light Weight,Breathable,Flexible\n"
     ]
    }
   ],
   "source": [
    "title= title.strip()\n",
    "features_lst = features.split(\"      \")\n",
    "\n",
    "features_lst2=map(lambda m:m.strip(),features_lst )\n",
    "features_lst3 = filter(lambda m: m != '',features_lst2)\n",
    "features_lst3=list(features_lst3)\n",
    "\n",
    "# print(features_lst3)\n",
    "\n",
    "\n",
    "from functools import reduce\n",
    "final_str = reduce( lambda s,s1: ','.join([s,s1]) , features_lst3 ) \n",
    "\n",
    "print(final_str)"
   ]
  },
  {
   "cell_type": "code",
   "execution_count": 89,
   "id": "b0044384-4d78-4928-a968-b79e93ee057e",
   "metadata": {},
   "outputs": [
    {
     "name": "stdout",
     "output_type": "stream",
     "text": [
      "2022-12-27\n"
     ]
    }
   ],
   "source": [
    "today = datetime.date.today()\n",
    "\n",
    "print(today)\n",
    "\n",
    "data = [title,final_str,today]"
   ]
  },
  {
   "cell_type": "code",
   "execution_count": 84,
   "id": "658bb3a7-9162-4f1e-84a3-125b9adb4e87",
   "metadata": {},
   "outputs": [],
   "source": [
    "import csv\n",
    "\n",
    "header = [\"title\",\"feature\",\"date\"]\n",
    "data = [title,final_str,today]\n",
    "\n",
    "with open(\"Amazon.csv\",'w',newline=\"\",encoding=\"UTF8\" ) as f:\n",
    "    writer =  csv.writer(f)\n",
    "    writer.writerow(header)\n",
    "    writer.writerow(data)\n",
    "\n",
    "\n",
    "\n"
   ]
  },
  {
   "cell_type": "code",
   "execution_count": 90,
   "id": "47a37edf-e13e-49df-9677-c6f760ae42b1",
   "metadata": {},
   "outputs": [],
   "source": [
    "with open(\"Amazon.csv\",'a+',newline=\"\",encoding=\"UTF8\" ) as f:\n",
    "    writer =  csv.writer(f)\n",
    "    writer.writerow(data)"
   ]
  },
  {
   "cell_type": "code",
   "execution_count": 91,
   "id": "b518da36-c51a-4e19-8fca-06da33555b1a",
   "metadata": {},
   "outputs": [
    {
     "name": "stdout",
     "output_type": "stream",
     "text": [
      "                                               title  \\\n",
      "0  Funny Got Data MIS Data Systems Business Analy...   \n",
      "1  Sparx Men's Running Shoe, Dark Grey Neon Orang...   \n",
      "\n",
      "                                             feature        date  \n",
      "0  Solid colors: 100% Cotton; Heather Grey: 90% C...  2022-12-27  \n",
      "1  Sole: Ethylene Vinyl Acetate,Closure: Pull On,...  2022-12-27  \n"
     ]
    }
   ],
   "source": [
    "import pandas as pd\n",
    "\n",
    "df = pd.read_csv(\"Amazon.csv\")\n",
    "print(df)"
   ]
  },
  {
   "cell_type": "code",
   "execution_count": null,
   "id": "7db0120a-9dc1-43a9-b450-3e4fc18b15f1",
   "metadata": {},
   "outputs": [],
   "source": []
  }
 ],
 "metadata": {
  "kernelspec": {
   "display_name": "Python 3 (ipykernel)",
   "language": "python",
   "name": "python3"
  },
  "language_info": {
   "codemirror_mode": {
    "name": "ipython",
    "version": 3
   },
   "file_extension": ".py",
   "mimetype": "text/x-python",
   "name": "python",
   "nbconvert_exporter": "python",
   "pygments_lexer": "ipython3",
   "version": "3.11.1"
  }
 },
 "nbformat": 4,
 "nbformat_minor": 5
}
